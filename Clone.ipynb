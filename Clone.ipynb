{
  "nbformat": 4,
  "nbformat_minor": 0,
  "metadata": {
    "colab": {
      "provenance": [],
      "include_colab_link": true
    },
    "kernelspec": {
      "name": "python3",
      "display_name": "Python 3"
    },
    "language_info": {
      "name": "python"
    }
  },
  "cells": [
    {
      "cell_type": "markdown",
      "metadata": {
        "id": "view-in-github",
        "colab_type": "text"
      },
      "source": [
        "<a href=\"https://colab.research.google.com/github/jamie07262/INFO-3608-PROJECT/blob/main/Clone.ipynb\" target=\"_parent\"><img src=\"https://colab.research.google.com/assets/colab-badge.svg\" alt=\"Open In Colab\"/></a>"
      ]
    },
    {
      "cell_type": "code",
      "execution_count": null,
      "metadata": {
        "colab": {
          "base_uri": "https://localhost:8080/"
        },
        "id": "WiFcE9Ldpj4x",
        "outputId": "2bd43352-e2b4-4fa8-fd64-364224de8eb5"
      },
      "outputs": [
        {
          "output_type": "stream",
          "name": "stdout",
          "text": [
            "Cloning into 'INFO-3608-PROJECT'...\n",
            "remote: Enumerating objects: 73, done.\u001b[K\n",
            "remote: Counting objects: 100% (73/73), done.\u001b[K\n",
            "remote: Compressing objects: 100% (65/65), done.\u001b[K\n",
            "remote: Total 73 (delta 14), reused 49 (delta 4), pack-reused 0 (from 0)\u001b[K\n",
            "Receiving objects: 100% (73/73), 12.57 MiB | 14.91 MiB/s, done.\n",
            "Resolving deltas: 100% (14/14), done.\n"
          ]
        }
      ],
      "source": [
        "!git clone https://github.com/jamie07262/INFO-3608-PROJECT"
      ]
    },
    {
      "cell_type": "code",
      "source": [
        "# accessing raw csv files from github repo\n",
        "!wget https://github.com/jamie07262/INFO-3608-PROJECT/tree/main/data/raw\n",
        "import pandas as pd\n"
      ],
      "metadata": {
        "colab": {
          "base_uri": "https://localhost:8080/"
        },
        "id": "lS0w-WMc6YFS",
        "outputId": "e9fdcae6-c7ea-4cf4-88fd-11ed9e05f42b"
      },
      "execution_count": 25,
      "outputs": [
        {
          "output_type": "stream",
          "name": "stdout",
          "text": [
            "--2025-03-29 05:12:35--  https://github.com/jamie07262/INFO-3608-PROJECT/tree/main/data/raw\n",
            "Resolving github.com (github.com)... 140.82.114.3\n",
            "Connecting to github.com (github.com)|140.82.114.3|:443... connected.\n",
            "HTTP request sent, awaiting response... 200 OK\n",
            "Length: unspecified [text/html]\n",
            "Saving to: ‘raw.2’\n",
            "\n",
            "raw.2                   [ <=>                ] 289.06K  --.-KB/s    in 0.1s    \n",
            "\n",
            "2025-03-29 05:12:35 (2.86 MB/s) - ‘raw.2’ saved [295996]\n",
            "\n"
          ]
        }
      ]
    },
    {
      "cell_type": "code",
      "source": [
        "#reading and concating men and women results and adding a new column to indicate the division\n",
        "df_seeds = pd.concat(\n",
        "    [\n",
        "        pd.read_csv(\"MNCAATourneySeeds.csv\").assign(Divison=\"M\"),\n",
        "        pd.read_csv(\"WNCAATourneySeeds.csv\").assign(Divison=\"W\"),\n",
        "    ]\n",
        ").reset_index(drop=True)\n",
        "\n",
        "df_compact_season_results = pd.concat(\n",
        "    [\n",
        "        pd.read_csv(\"MRegularSeasonCompactResults.csv\").assign(Divison=\"M\"),\n",
        "        pd.read_csv(\"WRegularSeasonCompactResults.csv\").assign(Divison=\"W\"),\n",
        "    ]\n",
        ").reset_index(drop=True)\n",
        "\n",
        "df_compact_tourney_results = pd.concat(\n",
        "    [\n",
        "        pd.read_csv(\"MNCAATourneyCompactResults.csv\").assign(Divison=\"M\"),\n",
        "        pd.read_csv(\"WNCAATourneyCompactResults.csv\").assign(Divison=\"W\"),\n",
        "    ]\n",
        ").reset_index(drop=True)\n",
        "\n",
        "\n",
        "\n",
        "print(df_seeds)\n",
        "print(df_compact_season_results)\n",
        "print(df_compact_tourney_results)\n",
        "\n"
      ],
      "metadata": {
        "colab": {
          "base_uri": "https://localhost:8080/"
        },
        "id": "R7iYcZEP-I6T",
        "outputId": "36f7b364-b818-495c-abe2-0385a37b432b"
      },
      "execution_count": 26,
      "outputs": [
        {
          "output_type": "stream",
          "name": "stdout",
          "text": [
            "      Season Seed  TeamID Divison\n",
            "0       1985  W01    1207       M\n",
            "1       1985  W02    1210       M\n",
            "2       1985  W03    1228       M\n",
            "3       1985  W04    1260       M\n",
            "4       1985  W05    1374       M\n",
            "...      ...  ...     ...     ...\n",
            "4365    2025  Z12    3193       W\n",
            "4366    2025  Z13    3251       W\n",
            "4367    2025  Z14    3195       W\n",
            "4368    2025  Z15    3117       W\n",
            "4369    2025  Z16    3422       W\n",
            "\n",
            "[4370 rows x 4 columns]\n",
            "        Season  DayNum  WTeamID  WScore  LTeamID  LScore WLoc  NumOT Divison\n",
            "0         1985      20     1228      81     1328      64    N      0       M\n",
            "1         1985      25     1106      77     1354      70    H      0       M\n",
            "2         1985      25     1112      63     1223      56    H      0       M\n",
            "3         1985      25     1165      70     1432      54    H      0       M\n",
            "4         1985      25     1192      86     1447      74    H      0       M\n",
            "...        ...     ...      ...     ...      ...     ...  ...    ...     ...\n",
            "329953    2025     131     3471      75     3413      66    A      0       W\n",
            "329954    2025     132     3192      66     3476      49    H      0       W\n",
            "329955    2025     132     3250      74     3119      62    H      0       W\n",
            "329956    2025     132     3293      83     3125      62    N      0       W\n",
            "329957    2025     132     3456      66     3144      63    N      0       W\n",
            "\n",
            "[329958 rows x 9 columns]\n",
            "      Season  DayNum  WTeamID  WScore  LTeamID  LScore WLoc  NumOT Divison\n",
            "0       1985     136     1116      63     1234      54    N      0       M\n",
            "1       1985     136     1120      59     1345      58    N      0       M\n",
            "2       1985     136     1207      68     1250      43    N      0       M\n",
            "3       1985     136     1229      58     1425      55    N      0       M\n",
            "4       1985     136     1242      49     1325      38    N      0       M\n",
            "...      ...     ...      ...     ...      ...     ...  ...    ...     ...\n",
            "4163    2024     147     3163      80     3425      73    A      0       W\n",
            "4164    2024     147     3234      94     3261      87    H      0       W\n",
            "4165    2024     151     3234      71     3163      69    N      0       W\n",
            "4166    2024     151     3376      78     3301      59    N      0       W\n",
            "4167    2024     153     3376      87     3234      75    N      0       W\n",
            "\n",
            "[4168 rows x 9 columns]\n"
          ]
        }
      ]
    },
    {
      "cell_type": "code",
      "source": [
        "# checking if there are any missing values\n",
        "print(df_seeds.isnull().sum())\n",
        "print(\"\\n\")\n",
        "print(df_compact_season_results.isnull().sum())\n",
        "print(\"\\n\")\n",
        "print(df_compact_tourney_results.isnull().sum())"
      ],
      "metadata": {
        "colab": {
          "base_uri": "https://localhost:8080/"
        },
        "id": "Kfph0yN8Gr7W",
        "outputId": "6317cbe4-5c0e-497c-f552-563a3815d8e9"
      },
      "execution_count": 27,
      "outputs": [
        {
          "output_type": "stream",
          "name": "stdout",
          "text": [
            "Season     0\n",
            "Seed       0\n",
            "TeamID     0\n",
            "Divison    0\n",
            "dtype: int64\n",
            "\n",
            "\n",
            "Season     0\n",
            "DayNum     0\n",
            "WTeamID    0\n",
            "WScore     0\n",
            "LTeamID    0\n",
            "LScore     0\n",
            "WLoc       0\n",
            "NumOT      0\n",
            "Divison    0\n",
            "dtype: int64\n",
            "\n",
            "\n",
            "Season     0\n",
            "DayNum     0\n",
            "WTeamID    0\n",
            "WScore     0\n",
            "LTeamID    0\n",
            "LScore     0\n",
            "WLoc       0\n",
            "NumOT      0\n",
            "Divison    0\n",
            "dtype: int64\n"
          ]
        }
      ]
    },
    {
      "cell_type": "code",
      "source": [
        "#checking if there are any duplicate\n",
        "print(df_seeds.duplicated().sum())\n",
        "print(\"\\n\")\n",
        "print(df_compact_season_results.duplicated().sum())\n",
        "print(\"\\n\")\n",
        "print(df_compact_tourney_results.duplicated().sum())"
      ],
      "metadata": {
        "colab": {
          "base_uri": "https://localhost:8080/"
        },
        "id": "snIk4aQ6YmxN",
        "outputId": "869466e5-c5bf-4376-ed95-19def4afa45c"
      },
      "execution_count": 28,
      "outputs": [
        {
          "output_type": "stream",
          "name": "stdout",
          "text": [
            "0\n",
            "\n",
            "\n",
            "0\n",
            "\n",
            "\n",
            "0\n"
          ]
        }
      ]
    }
  ]
}